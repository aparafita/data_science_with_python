{
 "cells": [
  {
   "cell_type": "markdown",
   "metadata": {},
   "source": [
    "# Wrangling"
   ]
  },
  {
   "cell_type": "code",
   "execution_count": 1,
   "metadata": {
    "collapsed": true
   },
   "outputs": [],
   "source": [
    "# Make the project root folder accessible\n",
    "from domino.utils.jupyter import notebook_init\n",
    "notebook_init()"
   ]
  },
  {
   "cell_type": "code",
   "execution_count": 2,
   "metadata": {
    "collapsed": true
   },
   "outputs": [],
   "source": [
    "import os.path\n",
    "import pandas as pd\n",
    "np = pd.np\n",
    "\n",
    "import re"
   ]
  },
  {
   "cell_type": "code",
   "execution_count": 3,
   "metadata": {
    "collapsed": false
   },
   "outputs": [],
   "source": [
    "# Read the data file\n",
    "players = pd.read_json(os.path.join('data', 'players.json'))"
   ]
  },
  {
   "cell_type": "code",
   "execution_count": 4,
   "metadata": {
    "collapsed": false,
    "scrolled": true
   },
   "outputs": [
    {
     "data": {
      "text/html": [
       "<div>\n",
       "<table border=\"1\" class=\"dataframe\">\n",
       "  <thead>\n",
       "    <tr style=\"text-align: right;\">\n",
       "      <th></th>\n",
       "      <th>aerialWonPerGame</th>\n",
       "      <th>ap</th>\n",
       "      <th>assistTotal</th>\n",
       "      <th>goal</th>\n",
       "      <th>manOfTheMatch</th>\n",
       "      <th>minsPlayed</th>\n",
       "      <th>passSuccess</th>\n",
       "      <th>pn player_metadata</th>\n",
       "      <th>pn player_name</th>\n",
       "      <th>pn player_url</th>\n",
       "      <th>pn team_name</th>\n",
       "      <th>pn team_url</th>\n",
       "      <th>rank</th>\n",
       "      <th>rating</th>\n",
       "      <th>redCard</th>\n",
       "      <th>rgn</th>\n",
       "      <th>shotsPerGame</th>\n",
       "      <th>yellowCard</th>\n",
       "    </tr>\n",
       "  </thead>\n",
       "  <tbody>\n",
       "    <tr>\n",
       "      <th>0</th>\n",
       "      <td>0.2</td>\n",
       "      <td>31(2)</td>\n",
       "      <td>16</td>\n",
       "      <td>26</td>\n",
       "      <td>13</td>\n",
       "      <td>2730</td>\n",
       "      <td>81.9</td>\n",
       "      <td>29, AM(CR),FW</td>\n",
       "      <td>Lionel Messi</td>\n",
       "      <td>https://www.whoscored.com/Players/11119</td>\n",
       "      <td>Barcelona,</td>\n",
       "      <td>https://www.whoscored.com/Teams/65</td>\n",
       "      <td>1</td>\n",
       "      <td>8.46</td>\n",
       "      <td>-</td>\n",
       "      <td>ui-icon country flg-ar</td>\n",
       "      <td>4.8</td>\n",
       "      <td>3</td>\n",
       "    </tr>\n",
       "    <tr>\n",
       "      <th>1</th>\n",
       "      <td>0.6</td>\n",
       "      <td>34</td>\n",
       "      <td>12</td>\n",
       "      <td>24</td>\n",
       "      <td>7</td>\n",
       "      <td>3057</td>\n",
       "      <td>80.9</td>\n",
       "      <td>24, AM(CLR),FW</td>\n",
       "      <td>Neymar</td>\n",
       "      <td>https://www.whoscored.com/Players/50835</td>\n",
       "      <td>Barcelona,</td>\n",
       "      <td>https://www.whoscored.com/Teams/65</td>\n",
       "      <td>2</td>\n",
       "      <td>8.43</td>\n",
       "      <td>-</td>\n",
       "      <td>ui-icon country flg-br</td>\n",
       "      <td>3.6</td>\n",
       "      <td>6</td>\n",
       "    </tr>\n",
       "    <tr>\n",
       "      <th>2</th>\n",
       "      <td>0.9</td>\n",
       "      <td>21(2)</td>\n",
       "      <td>10</td>\n",
       "      <td>19</td>\n",
       "      <td>5</td>\n",
       "      <td>1741</td>\n",
       "      <td>79.9</td>\n",
       "      <td>27, M(CLR),FW</td>\n",
       "      <td>Gareth Bale</td>\n",
       "      <td>https://www.whoscored.com/Players/13812</td>\n",
       "      <td>Real Madrid,</td>\n",
       "      <td>https://www.whoscored.com/Teams/52</td>\n",
       "      <td>3</td>\n",
       "      <td>8.12</td>\n",
       "      <td>-</td>\n",
       "      <td>ui-icon country flg-gb-wls</td>\n",
       "      <td>3.5</td>\n",
       "      <td>2</td>\n",
       "    </tr>\n",
       "    <tr>\n",
       "      <th>3</th>\n",
       "      <td>0.4</td>\n",
       "      <td>35</td>\n",
       "      <td>16</td>\n",
       "      <td>40</td>\n",
       "      <td>8</td>\n",
       "      <td>3150</td>\n",
       "      <td>73.1</td>\n",
       "      <td>29, AM(CLR),FW</td>\n",
       "      <td>Luis Suárez</td>\n",
       "      <td>https://www.whoscored.com/Players/22221</td>\n",
       "      <td>Barcelona,</td>\n",
       "      <td>https://www.whoscored.com/Teams/65</td>\n",
       "      <td>4</td>\n",
       "      <td>8.01</td>\n",
       "      <td>-</td>\n",
       "      <td>ui-icon country flg-uy</td>\n",
       "      <td>3.9</td>\n",
       "      <td>6</td>\n",
       "    </tr>\n",
       "    <tr>\n",
       "      <th>4</th>\n",
       "      <td>1.6</td>\n",
       "      <td>36</td>\n",
       "      <td>11</td>\n",
       "      <td>35</td>\n",
       "      <td>8</td>\n",
       "      <td>3185</td>\n",
       "      <td>79.4</td>\n",
       "      <td>31, M(L),FW</td>\n",
       "      <td>Cristiano Ronaldo</td>\n",
       "      <td>https://www.whoscored.com/Players/5583</td>\n",
       "      <td>Real Madrid,</td>\n",
       "      <td>https://www.whoscored.com/Teams/52</td>\n",
       "      <td>5</td>\n",
       "      <td>7.99</td>\n",
       "      <td>-</td>\n",
       "      <td>ui-icon country flg-pt</td>\n",
       "      <td>6.3</td>\n",
       "      <td>3</td>\n",
       "    </tr>\n",
       "  </tbody>\n",
       "</table>\n",
       "</div>"
      ],
      "text/plain": [
       "  aerialWonPerGame     ap assistTotal goal manOfTheMatch  minsPlayed  \\\n",
       "0              0.2  31(2)          16   26            13        2730   \n",
       "1              0.6     34          12   24             7        3057   \n",
       "2              0.9  21(2)          10   19             5        1741   \n",
       "3              0.4     35          16   40             8        3150   \n",
       "4              1.6     36          11   35             8        3185   \n",
       "\n",
       "  passSuccess pn player_metadata     pn player_name  \\\n",
       "0        81.9      29, AM(CR),FW       Lionel Messi   \n",
       "1        80.9     24, AM(CLR),FW             Neymar   \n",
       "2        79.9      27, M(CLR),FW        Gareth Bale   \n",
       "3        73.1     29, AM(CLR),FW        Luis Suárez   \n",
       "4        79.4        31, M(L),FW  Cristiano Ronaldo   \n",
       "\n",
       "                             pn player_url  pn team_name  \\\n",
       "0  https://www.whoscored.com/Players/11119    Barcelona,   \n",
       "1  https://www.whoscored.com/Players/50835    Barcelona,   \n",
       "2  https://www.whoscored.com/Players/13812  Real Madrid,   \n",
       "3  https://www.whoscored.com/Players/22221    Barcelona,   \n",
       "4   https://www.whoscored.com/Players/5583  Real Madrid,   \n",
       "\n",
       "                          pn team_url  rank  rating redCard  \\\n",
       "0  https://www.whoscored.com/Teams/65     1    8.46       -   \n",
       "1  https://www.whoscored.com/Teams/65     2    8.43       -   \n",
       "2  https://www.whoscored.com/Teams/52     3    8.12       -   \n",
       "3  https://www.whoscored.com/Teams/65     4    8.01       -   \n",
       "4  https://www.whoscored.com/Teams/52     5    7.99       -   \n",
       "\n",
       "                          rgn shotsPerGame yellowCard  \n",
       "0      ui-icon country flg-ar          4.8          3  \n",
       "1      ui-icon country flg-br          3.6          6  \n",
       "2  ui-icon country flg-gb-wls          3.5          2  \n",
       "3      ui-icon country flg-uy          3.9          6  \n",
       "4      ui-icon country flg-pt          6.3          3  "
      ]
     },
     "execution_count": 4,
     "metadata": {},
     "output_type": "execute_result"
    }
   ],
   "source": [
    "# Look at the first 5 rows\n",
    "players.head()"
   ]
  },
  {
   "cell_type": "code",
   "execution_count": 5,
   "metadata": {
    "collapsed": false
   },
   "outputs": [
    {
     "data": {
      "text/plain": [
       "aerialWonPerGame       object\n",
       "ap                     object\n",
       "assistTotal            object\n",
       "goal                   object\n",
       "manOfTheMatch          object\n",
       "minsPlayed              int64\n",
       "passSuccess            object\n",
       "pn player_metadata     object\n",
       "pn player_name         object\n",
       "pn player_url          object\n",
       "pn team_name           object\n",
       "pn team_url            object\n",
       "rank                    int64\n",
       "rating                float64\n",
       "redCard                object\n",
       "rgn                    object\n",
       "shotsPerGame           object\n",
       "yellowCard             object\n",
       "dtype: object"
      ]
     },
     "execution_count": 5,
     "metadata": {},
     "output_type": "execute_result"
    }
   ],
   "source": [
    "# Some columns need to be in the proper format; others need tranformation of their values\n",
    "players.dtypes"
   ]
  },
  {
   "cell_type": "code",
   "execution_count": 6,
   "metadata": {
    "collapsed": false
   },
   "outputs": [],
   "source": [
    "# For ap define a regular expression that extracts the number of appearances\n",
    "players.ap = players.ap.str.extract(re.compile(r'([0-9]+)(?:\\s?\\(\\))?'), expand=False)\n",
    "players.ap = players.ap.astype(int) # when extracted the number, convert it to int"
   ]
  },
  {
   "cell_type": "code",
   "execution_count": 7,
   "metadata": {
    "collapsed": false
   },
   "outputs": [],
   "source": [
    "# Replace - for 0 and convert values to floats or ints accordingly\n",
    "for col in [\n",
    "    'aerialWonPerGame', 'assistTotal', 'goal', 'manOfTheMatch', \n",
    "    'minsPlayed', 'passSuccess', 'redCard', 'shotsPerGame', 'yellowCard'\n",
    "]:\n",
    "    players[col] = players[col].replace('-', '0')\n",
    "    \n",
    "    if players[col].astype(str).str.contains('.').any():\n",
    "        players[col] = players[col].astype(float)\n",
    "    else:\n",
    "        players[col] = players[col].astype(int)"
   ]
  },
  {
   "cell_type": "code",
   "execution_count": 8,
   "metadata": {
    "collapsed": false
   },
   "outputs": [],
   "source": [
    "# rgn is the class name of a span that depicts the flag of the country the player belongs to.\n",
    "# Extract with a regular expression the country code\n",
    "\n",
    "players.rgn = players.rgn.str.extract(\n",
    "    r'ui-icon country flg-((?:\\w|-)+)$', \n",
    "    expand=False\n",
    ").fillna('') # some rows won't have data, so fill them with ''"
   ]
  },
  {
   "cell_type": "code",
   "execution_count": 9,
   "metadata": {
    "collapsed": false
   },
   "outputs": [
    {
     "data": {
      "text/plain": [
       "aerialWonPerGame      float64\n",
       "ap                      int64\n",
       "assistTotal           float64\n",
       "goal                  float64\n",
       "manOfTheMatch         float64\n",
       "minsPlayed            float64\n",
       "passSuccess           float64\n",
       "pn player_metadata     object\n",
       "pn player_name         object\n",
       "pn player_url          object\n",
       "pn team_name           object\n",
       "pn team_url            object\n",
       "rank                    int64\n",
       "rating                float64\n",
       "redCard               float64\n",
       "rgn                    object\n",
       "shotsPerGame          float64\n",
       "yellowCard            float64\n",
       "dtype: object"
      ]
     },
     "execution_count": 9,
     "metadata": {},
     "output_type": "execute_result"
    }
   ],
   "source": [
    "players.dtypes"
   ]
  },
  {
   "cell_type": "code",
   "execution_count": 10,
   "metadata": {
    "collapsed": false
   },
   "outputs": [
    {
     "data": {
      "text/plain": [
       "0     29, AM(CR),FW\n",
       "1    24, AM(CLR),FW\n",
       "2     27, M(CLR),FW\n",
       "3    29, AM(CLR),FW\n",
       "4       31, M(L),FW\n",
       "Name: pn player_metadata, dtype: object"
      ]
     },
     "execution_count": 10,
     "metadata": {},
     "output_type": "execute_result"
    }
   ],
   "source": [
    "players['pn player_metadata'].head()"
   ]
  },
  {
   "cell_type": "code",
   "execution_count": 11,
   "metadata": {
    "collapsed": false
   },
   "outputs": [],
   "source": [
    "# Extract the age of the player first\n",
    "players['age'] = players['pn player_metadata'].str.extract(\n",
    "    r'^([0-9]+),', \n",
    "    expand=False\n",
    ").astype(int)"
   ]
  },
  {
   "cell_type": "code",
   "execution_count": 12,
   "metadata": {
    "collapsed": false,
    "scrolled": true
   },
   "outputs": [],
   "source": [
    "# Then extract all possible position values\n",
    "players['pos'] = players['pn player_metadata'].str.findall(\n",
    "    r'(?P<pos>[()A-Za-z]+)'\n",
    ")"
   ]
  },
  {
   "cell_type": "code",
   "execution_count": 13,
   "metadata": {
    "collapsed": false
   },
   "outputs": [
    {
     "data": {
      "text/plain": [
       "0     [AM(CR), FW]\n",
       "1    [AM(CLR), FW]\n",
       "2     [M(CLR), FW]\n",
       "3    [AM(CLR), FW]\n",
       "4       [M(L), FW]\n",
       "Name: pos, dtype: object"
      ]
     },
     "execution_count": 13,
     "metadata": {},
     "output_type": "execute_result"
    }
   ],
   "source": [
    "players.pos.head()"
   ]
  },
  {
   "cell_type": "code",
   "execution_count": 14,
   "metadata": {
    "collapsed": true
   },
   "outputs": [],
   "source": [
    "# Create a set with all positions; sum will join all lists into one, which will be converted to a set\n",
    "pos_set = set(players.pos.sum())"
   ]
  },
  {
   "cell_type": "code",
   "execution_count": 15,
   "metadata": {
    "collapsed": true
   },
   "outputs": [],
   "source": [
    "# Create pos_ columns that store booleans telling if a player plays in a given position\n",
    "for pos in pos_set:\n",
    "    players['pos_%s' % pos] = players.pos.apply(lambda l: pos in l)"
   ]
  },
  {
   "cell_type": "code",
   "execution_count": 16,
   "metadata": {
    "collapsed": false
   },
   "outputs": [
    {
     "data": {
      "text/plain": [
       "0      Barcelona,\n",
       "1      Barcelona,\n",
       "2    Real Madrid,\n",
       "3      Barcelona,\n",
       "4    Real Madrid,\n",
       "Name: pn team_name, dtype: object"
      ]
     },
     "execution_count": 16,
     "metadata": {},
     "output_type": "execute_result"
    }
   ],
   "source": [
    "players['pn team_name'].head()"
   ]
  },
  {
   "cell_type": "code",
   "execution_count": 17,
   "metadata": {
    "collapsed": false
   },
   "outputs": [],
   "source": [
    "# Extract team name\n",
    "players['team'] = players['pn team_name'].str.extract(r'^((?:\\w|\\s)+)(?:,|\\s)*$', expand=False)"
   ]
  },
  {
   "cell_type": "code",
   "execution_count": 18,
   "metadata": {
    "collapsed": false
   },
   "outputs": [],
   "source": [
    "# Rename some columns to a more convenient name\n",
    "players = players.rename(\n",
    "    columns={\n",
    "        'pn player_name': 'player_name',\n",
    "        'pn player_url': 'player_url',\n",
    "        'pn team_url': 'team_url'\n",
    "    }\n",
    ")"
   ]
  },
  {
   "cell_type": "code",
   "execution_count": 19,
   "metadata": {
    "collapsed": true
   },
   "outputs": [],
   "source": [
    "# And drop useless columns\n",
    "players = players.drop(\n",
    "    [\n",
    "        'pn player_metadata',\n",
    "        'pn team_name',\n",
    "        'pos'\n",
    "    ], \n",
    "    axis=1\n",
    ")"
   ]
  },
  {
   "cell_type": "code",
   "execution_count": 20,
   "metadata": {
    "collapsed": false
   },
   "outputs": [
    {
     "data": {
      "text/html": [
       "<div>\n",
       "<table border=\"1\" class=\"dataframe\">\n",
       "  <thead>\n",
       "    <tr style=\"text-align: right;\">\n",
       "      <th></th>\n",
       "      <th>aerialWonPerGame</th>\n",
       "      <th>ap</th>\n",
       "      <th>assistTotal</th>\n",
       "      <th>goal</th>\n",
       "      <th>manOfTheMatch</th>\n",
       "      <th>minsPlayed</th>\n",
       "      <th>passSuccess</th>\n",
       "      <th>player_name</th>\n",
       "      <th>player_url</th>\n",
       "      <th>team_url</th>\n",
       "      <th>...</th>\n",
       "      <th>pos_GK</th>\n",
       "      <th>pos_AM(C)</th>\n",
       "      <th>pos_D(C)</th>\n",
       "      <th>pos_AM(R)</th>\n",
       "      <th>pos_DMC</th>\n",
       "      <th>pos_D(R)</th>\n",
       "      <th>pos_AM(CL)</th>\n",
       "      <th>pos_D(CLR)</th>\n",
       "      <th>pos_M(CL)</th>\n",
       "      <th>team</th>\n",
       "    </tr>\n",
       "  </thead>\n",
       "  <tbody>\n",
       "    <tr>\n",
       "      <th>0</th>\n",
       "      <td>0.2</td>\n",
       "      <td>31</td>\n",
       "      <td>16.0</td>\n",
       "      <td>26.0</td>\n",
       "      <td>13.0</td>\n",
       "      <td>2730.0</td>\n",
       "      <td>81.9</td>\n",
       "      <td>Lionel Messi</td>\n",
       "      <td>https://www.whoscored.com/Players/11119</td>\n",
       "      <td>https://www.whoscored.com/Teams/65</td>\n",
       "      <td>...</td>\n",
       "      <td>False</td>\n",
       "      <td>False</td>\n",
       "      <td>False</td>\n",
       "      <td>False</td>\n",
       "      <td>False</td>\n",
       "      <td>False</td>\n",
       "      <td>False</td>\n",
       "      <td>False</td>\n",
       "      <td>False</td>\n",
       "      <td>Barcelona</td>\n",
       "    </tr>\n",
       "    <tr>\n",
       "      <th>1</th>\n",
       "      <td>0.6</td>\n",
       "      <td>34</td>\n",
       "      <td>12.0</td>\n",
       "      <td>24.0</td>\n",
       "      <td>7.0</td>\n",
       "      <td>3057.0</td>\n",
       "      <td>80.9</td>\n",
       "      <td>Neymar</td>\n",
       "      <td>https://www.whoscored.com/Players/50835</td>\n",
       "      <td>https://www.whoscored.com/Teams/65</td>\n",
       "      <td>...</td>\n",
       "      <td>False</td>\n",
       "      <td>False</td>\n",
       "      <td>False</td>\n",
       "      <td>False</td>\n",
       "      <td>False</td>\n",
       "      <td>False</td>\n",
       "      <td>False</td>\n",
       "      <td>False</td>\n",
       "      <td>False</td>\n",
       "      <td>Barcelona</td>\n",
       "    </tr>\n",
       "    <tr>\n",
       "      <th>2</th>\n",
       "      <td>0.9</td>\n",
       "      <td>21</td>\n",
       "      <td>10.0</td>\n",
       "      <td>19.0</td>\n",
       "      <td>5.0</td>\n",
       "      <td>1741.0</td>\n",
       "      <td>79.9</td>\n",
       "      <td>Gareth Bale</td>\n",
       "      <td>https://www.whoscored.com/Players/13812</td>\n",
       "      <td>https://www.whoscored.com/Teams/52</td>\n",
       "      <td>...</td>\n",
       "      <td>False</td>\n",
       "      <td>False</td>\n",
       "      <td>False</td>\n",
       "      <td>False</td>\n",
       "      <td>False</td>\n",
       "      <td>False</td>\n",
       "      <td>False</td>\n",
       "      <td>False</td>\n",
       "      <td>False</td>\n",
       "      <td>Real Madrid</td>\n",
       "    </tr>\n",
       "    <tr>\n",
       "      <th>3</th>\n",
       "      <td>0.4</td>\n",
       "      <td>35</td>\n",
       "      <td>16.0</td>\n",
       "      <td>40.0</td>\n",
       "      <td>8.0</td>\n",
       "      <td>3150.0</td>\n",
       "      <td>73.1</td>\n",
       "      <td>Luis Suárez</td>\n",
       "      <td>https://www.whoscored.com/Players/22221</td>\n",
       "      <td>https://www.whoscored.com/Teams/65</td>\n",
       "      <td>...</td>\n",
       "      <td>False</td>\n",
       "      <td>False</td>\n",
       "      <td>False</td>\n",
       "      <td>False</td>\n",
       "      <td>False</td>\n",
       "      <td>False</td>\n",
       "      <td>False</td>\n",
       "      <td>False</td>\n",
       "      <td>False</td>\n",
       "      <td>Barcelona</td>\n",
       "    </tr>\n",
       "    <tr>\n",
       "      <th>4</th>\n",
       "      <td>1.6</td>\n",
       "      <td>36</td>\n",
       "      <td>11.0</td>\n",
       "      <td>35.0</td>\n",
       "      <td>8.0</td>\n",
       "      <td>3185.0</td>\n",
       "      <td>79.4</td>\n",
       "      <td>Cristiano Ronaldo</td>\n",
       "      <td>https://www.whoscored.com/Players/5583</td>\n",
       "      <td>https://www.whoscored.com/Teams/52</td>\n",
       "      <td>...</td>\n",
       "      <td>False</td>\n",
       "      <td>False</td>\n",
       "      <td>False</td>\n",
       "      <td>False</td>\n",
       "      <td>False</td>\n",
       "      <td>False</td>\n",
       "      <td>False</td>\n",
       "      <td>False</td>\n",
       "      <td>False</td>\n",
       "      <td>Real Madrid</td>\n",
       "    </tr>\n",
       "  </tbody>\n",
       "</table>\n",
       "<p>5 rows × 46 columns</p>\n",
       "</div>"
      ],
      "text/plain": [
       "   aerialWonPerGame  ap  assistTotal  goal  manOfTheMatch  minsPlayed  \\\n",
       "0               0.2  31         16.0  26.0           13.0      2730.0   \n",
       "1               0.6  34         12.0  24.0            7.0      3057.0   \n",
       "2               0.9  21         10.0  19.0            5.0      1741.0   \n",
       "3               0.4  35         16.0  40.0            8.0      3150.0   \n",
       "4               1.6  36         11.0  35.0            8.0      3185.0   \n",
       "\n",
       "   passSuccess        player_name                               player_url  \\\n",
       "0         81.9       Lionel Messi  https://www.whoscored.com/Players/11119   \n",
       "1         80.9             Neymar  https://www.whoscored.com/Players/50835   \n",
       "2         79.9        Gareth Bale  https://www.whoscored.com/Players/13812   \n",
       "3         73.1        Luis Suárez  https://www.whoscored.com/Players/22221   \n",
       "4         79.4  Cristiano Ronaldo   https://www.whoscored.com/Players/5583   \n",
       "\n",
       "                             team_url     ...       pos_GK  pos_AM(C)  \\\n",
       "0  https://www.whoscored.com/Teams/65     ...        False      False   \n",
       "1  https://www.whoscored.com/Teams/65     ...        False      False   \n",
       "2  https://www.whoscored.com/Teams/52     ...        False      False   \n",
       "3  https://www.whoscored.com/Teams/65     ...        False      False   \n",
       "4  https://www.whoscored.com/Teams/52     ...        False      False   \n",
       "\n",
       "   pos_D(C) pos_AM(R)  pos_DMC  pos_D(R)  pos_AM(CL) pos_D(CLR) pos_M(CL)  \\\n",
       "0     False     False    False     False       False      False     False   \n",
       "1     False     False    False     False       False      False     False   \n",
       "2     False     False    False     False       False      False     False   \n",
       "3     False     False    False     False       False      False     False   \n",
       "4     False     False    False     False       False      False     False   \n",
       "\n",
       "          team  \n",
       "0    Barcelona  \n",
       "1    Barcelona  \n",
       "2  Real Madrid  \n",
       "3    Barcelona  \n",
       "4  Real Madrid  \n",
       "\n",
       "[5 rows x 46 columns]"
      ]
     },
     "execution_count": 20,
     "metadata": {},
     "output_type": "execute_result"
    }
   ],
   "source": [
    "# Final result\n",
    "players.head()"
   ]
  },
  {
   "cell_type": "code",
   "execution_count": 21,
   "metadata": {
    "collapsed": true
   },
   "outputs": [],
   "source": [
    "# Save the processed data to a CSV file\n",
    "players.to_csv(os.path.join('data', 'players.csv'), index=False)"
   ]
  }
 ],
 "metadata": {
  "kernelspec": {
   "display_name": "Python 3",
   "language": "python",
   "name": "python3"
  },
  "language_info": {
   "codemirror_mode": {
    "name": "ipython",
    "version": 3
   },
   "file_extension": ".py",
   "mimetype": "text/x-python",
   "name": "python",
   "nbconvert_exporter": "python",
   "pygments_lexer": "ipython3",
   "version": "3.5.1"
  }
 },
 "nbformat": 4,
 "nbformat_minor": 0
}
