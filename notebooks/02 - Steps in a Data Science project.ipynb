{
 "cells": [
  {
   "cell_type": "markdown",
   "metadata": {},
   "source": [
    "# Steps in a Data Analysis project"
   ]
  },
  {
   "cell_type": "markdown",
   "metadata": {},
   "source": [
    "Any Data Analysis project begins with a **question** that we want to answer with data.\n",
    "\n",
    "That question must be answered with some input data, that must be **extracted**.\n",
    "\n",
    "The data that we extract is always dirty and incomplete: a data **wrangling** (cleaning) must be done.\n",
    "\n",
    "With out cleaned data, we can start doing some exploratory **analyses**.\n",
    "\n",
    "Depending on the question, **modeling** the problem could be necessary.\n",
    "\n",
    "During and after the analysis, some **visualizations** are useful.\n",
    "\n",
    "And, at last, some **insights** are retrieved from the data, which should also be visualized."
   ]
  },
  {
   "cell_type": "markdown",
   "metadata": {},
   "source": [
    "QUESTION -> EXTRACT -> WRANGLING -> ANALYSIS -> MODELING -> VISUALIZATION -> INSIGHTS"
   ]
  },
  {
   "cell_type": "markdown",
   "metadata": {},
   "source": [
    "## Structure of this training"
   ]
  },
  {
   "cell_type": "markdown",
   "metadata": {},
   "source": [
    "This Python for Data Analysis training is structured as a real-life Data Analysis project.\n",
    "\n",
    "As such, some real data will be extracted, cleansed, analysed, modeled and visualized."
   ]
  },
  {
   "cell_type": "markdown",
   "metadata": {},
   "source": [
    "### Question"
   ]
  },
  {
   "cell_type": "markdown",
   "metadata": {},
   "source": [
    "<a href=\"http://www.whoscored.com\">Whoscored</a> \n",
    "is a website that collects stats about football players and matches.\n",
    "\n",
    "Based on the following <a href=\"https://www.whoscored.com/Regions/206/Tournaments/4/Seasons/5933/Stages/12647/PlayerStatistics/Spain-La-Liga-2015-2016\">page</a>,\n",
    "data from all the players of last season of the Spanish tournament will be retrieved\n",
    "and analysed on the following aspects:\n",
    "\n",
    "* **Analysis**: Are there some patterns in the data?\n",
    "* **Regression**: Can the player score be predicted based on the player performance?\n",
    "* **Classification**: Can a player be classified by its role in the team based only on its performance?\n",
    "* **Clustering**: Are there some clusters to be identified in the players based on their perfomance?"
   ]
  },
  {
   "cell_type": "markdown",
   "metadata": {},
   "source": [
    "### Extract"
   ]
  },
  {
   "cell_type": "markdown",
   "metadata": {},
   "source": [
    "For the extraction of data, techniques of data scraping will be used:\n",
    "* User interaction simulation with ```selenium```\n",
    "* Data extraction with ```XPath```"
   ]
  },
  {
   "cell_type": "markdown",
   "metadata": {},
   "source": [
    "### Wrangling, Analysis and Visualization"
   ]
  },
  {
   "cell_type": "markdown",
   "metadata": {},
   "source": [
    "For all these three steps, ```numpy```, ```pandas``` and ```matplotlib``` with ```seaborn``` will be used"
   ]
  },
  {
   "cell_type": "markdown",
   "metadata": {},
   "source": [
    "### Modeling (Machine Learning)"
   ]
  },
  {
   "cell_type": "markdown",
   "metadata": {},
   "source": [
    "Finally, the models will be created and fitted with ```scikit-learn (sklearn)```"
   ]
  }
 ],
 "metadata": {
  "kernelspec": {
   "display_name": "Python 3",
   "language": "python",
   "name": "python3"
  },
  "language_info": {
   "codemirror_mode": {
    "name": "ipython",
    "version": 3
   },
   "file_extension": ".py",
   "mimetype": "text/x-python",
   "name": "python",
   "nbconvert_exporter": "python",
   "pygments_lexer": "ipython3",
   "version": "3.5.1"
  }
 },
 "nbformat": 4,
 "nbformat_minor": 0
}
