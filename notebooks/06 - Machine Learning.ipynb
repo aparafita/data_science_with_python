{
 "cells": [
  {
   "cell_type": "markdown",
   "metadata": {},
   "source": [
    "# Machine Learning"
   ]
  },
  {
   "cell_type": "code",
   "execution_count": 1,
   "metadata": {
    "collapsed": true
   },
   "outputs": [],
   "source": [
    "# Make the project root folder accessible\n",
    "from domino.utils.jupyter import notebook_init\n",
    "notebook_init()"
   ]
  },
  {
   "cell_type": "code",
   "execution_count": 2,
   "metadata": {
    "collapsed": true
   },
   "outputs": [],
   "source": [
    "import os.path\n",
    "import pandas as pd\n",
    "np = pd.np\n",
    "\n",
    "% matplotlib inline\n",
    "import seaborn as sns\n",
    "import matplotlib.pyplot as plt\n",
    "from matplotlib.colors import rgb2hex"
   ]
  },
  {
   "cell_type": "code",
   "execution_count": 3,
   "metadata": {
    "collapsed": false
   },
   "outputs": [],
   "source": [
    "df = pd.read_csv(os.path.join('data', 'players.csv'))"
   ]
  },
  {
   "cell_type": "code",
   "execution_count": 4,
   "metadata": {
    "collapsed": false
   },
   "outputs": [],
   "source": [
    "players = df[['player_name', 'rating']].copy()"
   ]
  },
  {
   "cell_type": "code",
   "execution_count": 5,
   "metadata": {
    "collapsed": true
   },
   "outputs": [],
   "source": [
    "# Drop unnecessary columns\n",
    "df = df.drop(['player_name', 'player_url', 'team', 'team_url', 'rank', 'rgn'], axis=1)"
   ]
  },
  {
   "cell_type": "code",
   "execution_count": 6,
   "metadata": {
    "collapsed": false,
    "scrolled": true
   },
   "outputs": [
    {
     "data": {
      "text/plain": [
       "aerialWonPerGame    float64\n",
       "ap                    int64\n",
       "assistTotal         float64\n",
       "goal                float64\n",
       "manOfTheMatch       float64\n",
       "minsPlayed          float64\n",
       "passSuccess         float64\n",
       "rating              float64\n",
       "redCard             float64\n",
       "shotsPerGame        float64\n",
       "yellowCard          float64\n",
       "age                   int64\n",
       "pos_AM(LR)             bool\n",
       "pos_AM(L)              bool\n",
       "pos_M(LR)              bool\n",
       "pos_Midfielder         bool\n",
       "pos_D(CL)              bool\n",
       "pos_AM(CR)             bool\n",
       "pos_M(R)               bool\n",
       "pos_FW                 bool\n",
       "pos_Forward            bool\n",
       "pos_D(CR)              bool\n",
       "pos_Goalkeeper         bool\n",
       "pos_AM(CLR)            bool\n",
       "pos_Defender           bool\n",
       "pos_M(L)               bool\n",
       "pos_M(C)               bool\n",
       "pos_M(CLR)             bool\n",
       "pos_M(CR)              bool\n",
       "pos_D(L)               bool\n",
       "pos_D(LR)              bool\n",
       "pos_GK                 bool\n",
       "pos_AM(C)              bool\n",
       "pos_D(C)               bool\n",
       "pos_AM(R)              bool\n",
       "pos_DMC                bool\n",
       "pos_D(R)               bool\n",
       "pos_AM(CL)             bool\n",
       "pos_D(CLR)             bool\n",
       "pos_M(CL)              bool\n",
       "dtype: object"
      ]
     },
     "execution_count": 6,
     "metadata": {},
     "output_type": "execute_result"
    }
   ],
   "source": [
    "df.dtypes"
   ]
  },
  {
   "cell_type": "code",
   "execution_count": 7,
   "metadata": {
    "collapsed": false
   },
   "outputs": [
    {
     "data": {
      "text/html": [
       "<div>\n",
       "<table border=\"1\" class=\"dataframe\">\n",
       "  <thead>\n",
       "    <tr style=\"text-align: right;\">\n",
       "      <th></th>\n",
       "      <th>aerialWonPerGame</th>\n",
       "      <th>ap</th>\n",
       "      <th>assistTotal</th>\n",
       "      <th>goal</th>\n",
       "      <th>manOfTheMatch</th>\n",
       "      <th>minsPlayed</th>\n",
       "      <th>passSuccess</th>\n",
       "      <th>rating</th>\n",
       "      <th>redCard</th>\n",
       "      <th>shotsPerGame</th>\n",
       "      <th>...</th>\n",
       "      <th>pos_D(LR)</th>\n",
       "      <th>pos_GK</th>\n",
       "      <th>pos_AM(C)</th>\n",
       "      <th>pos_D(C)</th>\n",
       "      <th>pos_AM(R)</th>\n",
       "      <th>pos_DMC</th>\n",
       "      <th>pos_D(R)</th>\n",
       "      <th>pos_AM(CL)</th>\n",
       "      <th>pos_D(CLR)</th>\n",
       "      <th>pos_M(CL)</th>\n",
       "    </tr>\n",
       "  </thead>\n",
       "  <tbody>\n",
       "    <tr>\n",
       "      <th>0</th>\n",
       "      <td>0.2</td>\n",
       "      <td>31</td>\n",
       "      <td>16.0</td>\n",
       "      <td>26.0</td>\n",
       "      <td>13.0</td>\n",
       "      <td>2730.0</td>\n",
       "      <td>81.9</td>\n",
       "      <td>8.46</td>\n",
       "      <td>0.0</td>\n",
       "      <td>4.8</td>\n",
       "      <td>...</td>\n",
       "      <td>False</td>\n",
       "      <td>False</td>\n",
       "      <td>False</td>\n",
       "      <td>False</td>\n",
       "      <td>False</td>\n",
       "      <td>False</td>\n",
       "      <td>False</td>\n",
       "      <td>False</td>\n",
       "      <td>False</td>\n",
       "      <td>False</td>\n",
       "    </tr>\n",
       "    <tr>\n",
       "      <th>1</th>\n",
       "      <td>0.6</td>\n",
       "      <td>34</td>\n",
       "      <td>12.0</td>\n",
       "      <td>24.0</td>\n",
       "      <td>7.0</td>\n",
       "      <td>3057.0</td>\n",
       "      <td>80.9</td>\n",
       "      <td>8.43</td>\n",
       "      <td>0.0</td>\n",
       "      <td>3.6</td>\n",
       "      <td>...</td>\n",
       "      <td>False</td>\n",
       "      <td>False</td>\n",
       "      <td>False</td>\n",
       "      <td>False</td>\n",
       "      <td>False</td>\n",
       "      <td>False</td>\n",
       "      <td>False</td>\n",
       "      <td>False</td>\n",
       "      <td>False</td>\n",
       "      <td>False</td>\n",
       "    </tr>\n",
       "    <tr>\n",
       "      <th>2</th>\n",
       "      <td>0.9</td>\n",
       "      <td>21</td>\n",
       "      <td>10.0</td>\n",
       "      <td>19.0</td>\n",
       "      <td>5.0</td>\n",
       "      <td>1741.0</td>\n",
       "      <td>79.9</td>\n",
       "      <td>8.12</td>\n",
       "      <td>0.0</td>\n",
       "      <td>3.5</td>\n",
       "      <td>...</td>\n",
       "      <td>False</td>\n",
       "      <td>False</td>\n",
       "      <td>False</td>\n",
       "      <td>False</td>\n",
       "      <td>False</td>\n",
       "      <td>False</td>\n",
       "      <td>False</td>\n",
       "      <td>False</td>\n",
       "      <td>False</td>\n",
       "      <td>False</td>\n",
       "    </tr>\n",
       "    <tr>\n",
       "      <th>3</th>\n",
       "      <td>0.4</td>\n",
       "      <td>35</td>\n",
       "      <td>16.0</td>\n",
       "      <td>40.0</td>\n",
       "      <td>8.0</td>\n",
       "      <td>3150.0</td>\n",
       "      <td>73.1</td>\n",
       "      <td>8.01</td>\n",
       "      <td>0.0</td>\n",
       "      <td>3.9</td>\n",
       "      <td>...</td>\n",
       "      <td>False</td>\n",
       "      <td>False</td>\n",
       "      <td>False</td>\n",
       "      <td>False</td>\n",
       "      <td>False</td>\n",
       "      <td>False</td>\n",
       "      <td>False</td>\n",
       "      <td>False</td>\n",
       "      <td>False</td>\n",
       "      <td>False</td>\n",
       "    </tr>\n",
       "    <tr>\n",
       "      <th>4</th>\n",
       "      <td>1.6</td>\n",
       "      <td>36</td>\n",
       "      <td>11.0</td>\n",
       "      <td>35.0</td>\n",
       "      <td>8.0</td>\n",
       "      <td>3185.0</td>\n",
       "      <td>79.4</td>\n",
       "      <td>7.99</td>\n",
       "      <td>0.0</td>\n",
       "      <td>6.3</td>\n",
       "      <td>...</td>\n",
       "      <td>False</td>\n",
       "      <td>False</td>\n",
       "      <td>False</td>\n",
       "      <td>False</td>\n",
       "      <td>False</td>\n",
       "      <td>False</td>\n",
       "      <td>False</td>\n",
       "      <td>False</td>\n",
       "      <td>False</td>\n",
       "      <td>False</td>\n",
       "    </tr>\n",
       "  </tbody>\n",
       "</table>\n",
       "<p>5 rows × 40 columns</p>\n",
       "</div>"
      ],
      "text/plain": [
       "   aerialWonPerGame  ap  assistTotal  goal  manOfTheMatch  minsPlayed  \\\n",
       "0               0.2  31         16.0  26.0           13.0      2730.0   \n",
       "1               0.6  34         12.0  24.0            7.0      3057.0   \n",
       "2               0.9  21         10.0  19.0            5.0      1741.0   \n",
       "3               0.4  35         16.0  40.0            8.0      3150.0   \n",
       "4               1.6  36         11.0  35.0            8.0      3185.0   \n",
       "\n",
       "   passSuccess  rating  redCard  shotsPerGame    ...     pos_D(LR)  pos_GK  \\\n",
       "0         81.9    8.46      0.0           4.8    ...         False   False   \n",
       "1         80.9    8.43      0.0           3.6    ...         False   False   \n",
       "2         79.9    8.12      0.0           3.5    ...         False   False   \n",
       "3         73.1    8.01      0.0           3.9    ...         False   False   \n",
       "4         79.4    7.99      0.0           6.3    ...         False   False   \n",
       "\n",
       "  pos_AM(C) pos_D(C) pos_AM(R) pos_DMC pos_D(R) pos_AM(CL) pos_D(CLR)  \\\n",
       "0     False    False     False   False    False      False      False   \n",
       "1     False    False     False   False    False      False      False   \n",
       "2     False    False     False   False    False      False      False   \n",
       "3     False    False     False   False    False      False      False   \n",
       "4     False    False     False   False    False      False      False   \n",
       "\n",
       "  pos_M(CL)  \n",
       "0     False  \n",
       "1     False  \n",
       "2     False  \n",
       "3     False  \n",
       "4     False  \n",
       "\n",
       "[5 rows x 40 columns]"
      ]
     },
     "execution_count": 7,
     "metadata": {},
     "output_type": "execute_result"
    }
   ],
   "source": [
    "df.head()"
   ]
  },
  {
   "cell_type": "markdown",
   "metadata": {},
   "source": [
    "# Regression"
   ]
  },
  {
   "cell_type": "markdown",
   "metadata": {},
   "source": [
    "Can the player score be predicted based on the player performance?"
   ]
  },
  {
   "cell_type": "code",
   "execution_count": 8,
   "metadata": {
    "collapsed": true
   },
   "outputs": [],
   "source": [
    "input_cols = [ col for col in df if col != 'rating' ]"
   ]
  },
  {
   "cell_type": "code",
   "execution_count": 9,
   "metadata": {
    "collapsed": false
   },
   "outputs": [
    {
     "data": {
      "text/plain": [
       "array([[  0.2,  31. ,  16. , ...,   0. ,   0. ,   0. ],\n",
       "       [  0.6,  34. ,  12. , ...,   0. ,   0. ,   0. ],\n",
       "       [  0.9,  21. ,  10. , ...,   0. ,   0. ,   0. ],\n",
       "       ..., \n",
       "       [  2. ,   2. ,   0. , ...,   0. ,   0. ,   0. ],\n",
       "       [  0.7,   3. ,   0. , ...,   0. ,   0. ,   0. ],\n",
       "       [  0. ,   1. ,   0. , ...,   0. ,   0. ,   0. ]])"
      ]
     },
     "execution_count": 9,
     "metadata": {},
     "output_type": "execute_result"
    }
   ],
   "source": [
    "X = df[input_cols].astype(float).as_matrix()\n",
    "\n",
    "X"
   ]
  },
  {
   "cell_type": "code",
   "execution_count": 10,
   "metadata": {
    "collapsed": false,
    "scrolled": true
   },
   "outputs": [
    {
     "data": {
      "text/plain": [
       "array([ 8.46,  8.43,  8.12,  8.01,  7.99,  7.65,  7.6 ,  7.52,  7.5 ,\n",
       "        7.49,  7.44,  7.44,  7.37,  7.37,  7.37,  7.33,  7.33,  7.32,\n",
       "        7.3 ,  7.28,  7.27,  7.27,  7.27,  7.25,  7.24,  7.24,  7.23,\n",
       "        7.22,  7.22,  7.22,  7.22,  7.22,  7.21,  7.21,  7.2 ,  7.19,\n",
       "        7.18,  7.17,  7.17,  7.16,  7.15,  7.15,  7.14,  7.14,  7.14,\n",
       "        7.14,  7.14,  7.13,  7.12,  7.12,  7.12,  7.12,  7.12,  7.11,\n",
       "        7.1 ,  7.1 ,  7.1 ,  7.09,  7.09,  7.09,  7.09,  7.09,  7.09,\n",
       "        7.08,  7.08,  7.07,  7.07,  7.06,  7.06,  7.06,  7.06,  7.05,\n",
       "        7.05,  7.05,  7.05,  7.04,  7.04,  7.04,  7.03,  7.03,  7.02,\n",
       "        7.02,  7.02,  7.02,  7.01,  7.01,  7.01,  7.01,  7.  ,  7.  ,\n",
       "        7.  ,  7.  ,  6.99,  6.99,  6.98,  6.98,  6.98,  6.98,  6.98,\n",
       "        6.97,  6.97,  6.97,  6.97,  6.97,  6.96,  6.96,  6.95,  6.95,\n",
       "        6.95,  6.94,  6.94,  6.94,  6.93,  6.93,  6.93,  6.93,  6.93,\n",
       "        6.93,  6.92,  6.92,  6.92,  6.92,  6.92,  6.92,  6.91,  6.91,\n",
       "        6.91,  6.91,  6.91,  6.9 ,  6.9 ,  6.9 ,  6.9 ,  6.89,  6.89,\n",
       "        6.89,  6.89,  6.89,  6.88,  6.88,  6.88,  6.88,  6.88,  6.87,\n",
       "        6.87,  6.87,  6.87,  6.87,  6.87,  6.87,  6.86,  6.86,  6.86,\n",
       "        6.86,  6.85,  6.85,  6.85,  6.84,  6.84,  6.84,  6.84,  6.84,\n",
       "        6.84,  6.83,  6.83,  6.83,  6.83,  6.83,  6.83,  6.82,  6.82,\n",
       "        6.82,  6.82,  6.82,  6.82,  6.82,  6.82,  6.82,  6.82,  6.81,\n",
       "        6.81,  6.81,  6.81,  6.81,  6.8 ,  6.8 ,  6.8 ,  6.8 ,  6.8 ,\n",
       "        6.8 ,  6.8 ,  6.8 ,  6.79,  6.79,  6.79,  6.79,  6.79,  6.79,\n",
       "        6.78,  6.78,  6.78,  6.78,  6.78,  6.78,  6.78,  6.78,  6.78,\n",
       "        6.77,  6.77,  6.77,  6.77,  6.77,  6.77,  6.77,  6.77,  6.77,\n",
       "        6.76,  6.76,  6.76,  6.76,  6.76,  6.76,  6.76,  6.76,  6.76,\n",
       "        6.75,  6.75,  6.75,  6.74,  6.74,  6.74,  6.74,  6.74,  6.74,\n",
       "        6.74,  6.74,  6.74,  6.73,  6.73,  6.73,  6.73,  6.73,  6.72,\n",
       "        6.72,  6.72,  6.72,  6.72,  6.72,  6.72,  6.72,  6.72,  6.72,\n",
       "        6.72,  6.71,  6.71,  6.71,  6.71,  6.71,  6.7 ,  6.7 ,  6.7 ,\n",
       "        6.7 ,  6.7 ,  6.7 ,  6.7 ,  6.7 ,  6.69,  6.69,  6.69,  6.69,\n",
       "        6.68,  6.68,  6.68,  6.68,  6.68,  6.68,  6.68,  6.67,  6.67,\n",
       "        6.67,  6.67,  6.66,  6.66,  6.66,  6.66,  6.66,  6.66,  6.66,\n",
       "        6.65,  6.65,  6.65,  6.65,  6.65,  6.65,  6.64,  6.64,  6.64,\n",
       "        6.63,  6.63,  6.63,  6.63,  6.62,  6.62,  6.62,  6.62,  6.62,\n",
       "        6.62,  6.62,  6.62,  6.62,  6.62,  6.62,  6.61,  6.61,  6.61,\n",
       "        6.61,  6.61,  6.6 ,  6.6 ,  6.6 ,  6.59,  6.59,  6.59,  6.59,\n",
       "        6.59,  6.59,  6.58,  6.58,  6.58,  6.57,  6.57,  6.57,  6.56,\n",
       "        6.56,  6.56,  6.56,  6.56,  6.56,  6.56,  6.56,  6.56,  6.55,\n",
       "        6.55,  6.55,  6.55,  6.55,  6.55,  6.55,  6.55,  6.55,  6.55,\n",
       "        6.54,  6.54,  6.53,  6.53,  6.53,  6.52,  6.52,  6.52,  6.52,\n",
       "        6.52,  6.52,  6.52,  6.51,  6.51,  6.51,  6.5 ,  6.5 ,  6.5 ,\n",
       "        6.5 ,  6.49,  6.49,  6.49,  6.48,  6.48,  6.48,  6.48,  6.48,\n",
       "        6.48,  6.48,  6.48,  6.48,  6.47,  6.46,  6.46,  6.46,  6.45,\n",
       "        6.45,  6.45,  6.44,  6.44,  6.44,  6.44,  6.44,  6.44,  6.44,\n",
       "        6.44,  6.44,  6.43,  6.43,  6.43,  6.43,  6.43,  6.43,  6.42,\n",
       "        6.42,  6.42,  6.42,  6.42,  6.41,  6.41,  6.41,  6.41,  6.41,\n",
       "        6.4 ,  6.4 ,  6.4 ,  6.4 ,  6.4 ,  6.4 ,  6.39,  6.39,  6.38,\n",
       "        6.38,  6.38,  6.37,  6.37,  6.37,  6.37,  6.37,  6.37,  6.36,\n",
       "        6.36,  6.36,  6.36,  6.35,  6.35,  6.34,  6.34,  6.33,  6.33,\n",
       "        6.33,  6.32,  6.32,  6.32,  6.32,  6.31,  6.31,  6.31,  6.31,\n",
       "        6.31,  6.31,  6.3 ,  6.3 ,  6.3 ,  6.3 ,  6.29,  6.28,  6.28,\n",
       "        6.28,  6.28,  6.27,  6.27,  6.27,  6.26,  6.26,  6.25,  6.25,\n",
       "        6.25,  6.24,  6.24,  6.23,  6.23,  6.22,  6.22,  6.22,  6.22,\n",
       "        6.22,  6.21,  6.21,  6.21,  6.21,  6.2 ,  6.19,  6.19,  6.19,\n",
       "        6.19,  6.18,  6.17,  6.17,  6.17,  6.17,  6.16,  6.15,  6.15,\n",
       "        6.15,  6.15,  6.15,  6.14,  6.14,  6.14,  6.14,  6.13,  6.13,\n",
       "        6.12,  6.12,  6.11,  6.11,  6.11,  6.11,  6.11,  6.1 ,  6.1 ,\n",
       "        6.1 ,  6.1 ,  6.09,  6.08,  6.08,  6.08,  6.08,  6.07,  6.06,\n",
       "        6.06,  6.05,  6.05,  6.04,  6.03,  6.03,  6.02,  6.02,  6.01,\n",
       "        6.01,  6.  ,  6.  ,  6.  ,  5.99,  5.99,  5.98,  5.98,  5.98,\n",
       "        5.97,  5.95,  5.94,  5.8 ,  5.7 ,  5.47,  5.4 ])"
      ]
     },
     "execution_count": 10,
     "metadata": {},
     "output_type": "execute_result"
    }
   ],
   "source": [
    "y = df.rating.as_matrix()\n",
    "\n",
    "y"
   ]
  },
  {
   "cell_type": "code",
   "execution_count": 11,
   "metadata": {
    "collapsed": true
   },
   "outputs": [],
   "source": [
    "from sklearn.linear_model import LinearRegression"
   ]
  },
  {
   "cell_type": "markdown",
   "metadata": {},
   "source": [
    "Most sklearn algorithms work in the same way:\n",
    "* Instantiate the algorithm by calling the class constructor.\n",
    "    * The parameters for the model are set in the constructor call.\n",
    "* Call the fit method passing it the training samples (with their features) and, possibly, a target value"
   ]
  },
  {
   "cell_type": "code",
   "execution_count": 12,
   "metadata": {
    "collapsed": false
   },
   "outputs": [
    {
     "data": {
      "text/plain": [
       "LinearRegression(copy_X=True, fit_intercept=True, n_jobs=1, normalize=False)"
      ]
     },
     "execution_count": 12,
     "metadata": {},
     "output_type": "execute_result"
    }
   ],
   "source": [
    "reg = LinearRegression()\n",
    "reg.fit(X, y)"
   ]
  },
  {
   "cell_type": "code",
   "execution_count": 13,
   "metadata": {
    "collapsed": false
   },
   "outputs": [
    {
     "data": {
      "text/plain": [
       "(5.8491149480858065,\n",
       " array([  1.10099593e-01,   1.03473035e-02,   4.13093918e-02,\n",
       "          6.72992849e-03,   5.77996074e-02,  -3.71771683e-05,\n",
       "          6.67459080e-03,  -5.94741497e-02,   1.04594955e-01,\n",
       "         -2.75628233e-03,  -3.64433845e-03,   2.03282625e-02,\n",
       "         -5.70291047e-02,   3.20346014e-03,  -1.16908181e-01,\n",
       "          1.70258991e-01,  -2.83948714e-03,   1.28539273e-02,\n",
       "         -1.93383289e-01,  -1.93407365e-01,   1.91166314e-01,\n",
       "         -3.88961197e-01,  -7.31981327e-03,  -1.54123160e-02,\n",
       "         -1.41908552e-01,   1.61069573e-02,   3.54150917e-02,\n",
       "          1.71751536e-01,   2.33606127e-01,   5.26072693e-02,\n",
       "          2.98512269e-01,  -1.24548979e-01,   1.23701536e-01,\n",
       "         -5.77567759e-02,   3.97674833e-03,   1.22121715e-01,\n",
       "         -1.40431157e-01,   1.48051026e-01,   3.77342773e-02]))"
      ]
     },
     "execution_count": 13,
     "metadata": {},
     "output_type": "execute_result"
    }
   ],
   "source": [
    "reg.intercept_, reg.coef_"
   ]
  },
  {
   "cell_type": "code",
   "execution_count": 14,
   "metadata": {
    "collapsed": true
   },
   "outputs": [],
   "source": [
    "predictions = pd.concat(\n",
    "    [\n",
    "        players, \n",
    "        pd.Series(reg.predict(X), name='predicted_score')\n",
    "    ], \n",
    "    axis=1\n",
    ")"
   ]
  },
  {
   "cell_type": "code",
   "execution_count": 15,
   "metadata": {
    "collapsed": false
   },
   "outputs": [
    {
     "data": {
      "text/plain": [
       "<matplotlib.axes._subplots.AxesSubplot at 0x11534de10>"
      ]
     },
     "execution_count": 15,
     "metadata": {},
     "output_type": "execute_result"
    },
    {
     "data": {
      "image/png": "[encoded data removed]",
      "text/plain": [
       "<matplotlib.figure.Figure at 0x11534d6a0>"
      ]
     },
     "metadata": {},
     "output_type": "display_data"
    }
   ],
   "source": [
    "predictions.plot(\n",
    "    figsize=(17, 5), ylim=(0, 10), xticks=players.index[::10], use_index=True, rot=90,\n",
    "    title='rating vs. prediction'\n",
    ")"
   ]
  },
  {
   "cell_type": "code",
   "execution_count": 16,
   "metadata": {
    "collapsed": false
   },
   "outputs": [
    {
     "data": {
      "text/plain": [
       "<matplotlib.axes._subplots.AxesSubplot at 0x118f52908>"
      ]
     },
     "execution_count": 16,
     "metadata": {},
     "output_type": "execute_result"
    },
    {
     "data": {
      "image/png": "[encoded data removed]",
      "text/plain": [
       "<matplotlib.figure.Figure at 0x118f5e390>"
      ]
     },
     "metadata": {},
     "output_type": "display_data"
    }
   ],
   "source": [
    "(predictions.predicted_score - predictions.rating).plot(\n",
    "    figsize=(17, 5), xticks=players.index[::10], use_index=True, rot=90,\n",
    "    title='prediction error'\n",
    ")"
   ]
  },
  {
   "cell_type": "markdown",
   "metadata": {},
   "source": [
    "# Classification"
   ]
  },
  {
   "cell_type": "markdown",
   "metadata": {},
   "source": [
    "Can a player be classified by its role in the team based only on its performance?"
   ]
  },
  {
   "cell_type": "code",
   "execution_count": 17,
   "metadata": {
    "collapsed": true
   },
   "outputs": [],
   "source": [
    "from sklearn.tree import DecisionTreeClassifier"
   ]
  },
  {
   "cell_type": "code",
   "execution_count": 18,
   "metadata": {
    "collapsed": false
   },
   "outputs": [
    {
     "data": {
      "text/plain": [
       "Index(['aerialWonPerGame', 'ap', 'assistTotal', 'goal', 'manOfTheMatch',\n",
       "       'minsPlayed', 'passSuccess', 'rating', 'redCard', 'shotsPerGame',\n",
       "       'yellowCard', 'age', 'pos_AM(LR)', 'pos_AM(L)', 'pos_M(LR)',\n",
       "       'pos_Midfielder', 'pos_D(CL)', 'pos_AM(CR)', 'pos_M(R)', 'pos_FW',\n",
       "       'pos_Forward', 'pos_D(CR)', 'pos_Goalkeeper', 'pos_AM(CLR)',\n",
       "       'pos_Defender', 'pos_M(L)', 'pos_M(C)', 'pos_M(CLR)', 'pos_M(CR)',\n",
       "       'pos_D(L)', 'pos_D(LR)', 'pos_GK', 'pos_AM(C)', 'pos_D(C)', 'pos_AM(R)',\n",
       "       'pos_DMC', 'pos_D(R)', 'pos_AM(CL)', 'pos_D(CLR)', 'pos_M(CL)'],\n",
       "      dtype='object')"
      ]
     },
     "execution_count": 18,
     "metadata": {},
     "output_type": "execute_result"
    }
   ],
   "source": [
    "df.columns"
   ]
  },
  {
   "cell_type": "code",
   "execution_count": 19,
   "metadata": {
    "collapsed": true
   },
   "outputs": [],
   "source": [
    "output_cols = [col for col in df if col.startswith('pos_')]\n",
    "input_cols = [col for col in df if col not in output_cols]"
   ]
  },
  {
   "cell_type": "code",
   "execution_count": 20,
   "metadata": {
    "collapsed": true
   },
   "outputs": [],
   "source": [
    "X = df[input_cols].as_matrix()\n",
    "y = df[output_cols].as_matrix()"
   ]
  },
  {
   "cell_type": "code",
   "execution_count": 21,
   "metadata": {
    "collapsed": false
   },
   "outputs": [
    {
     "data": {
      "text/plain": [
       "DecisionTreeClassifier(class_weight=None, criterion='gini', max_depth=None,\n",
       "            max_features=None, max_leaf_nodes=None, min_samples_leaf=1,\n",
       "            min_samples_split=2, min_weight_fraction_leaf=0.0,\n",
       "            presort=False, random_state=None, splitter='best')"
      ]
     },
     "execution_count": 21,
     "metadata": {},
     "output_type": "execute_result"
    }
   ],
   "source": [
    "clf = DecisionTreeClassifier()\n",
    "clf.fit(X, y)"
   ]
  },
  {
   "cell_type": "code",
   "execution_count": 22,
   "metadata": {
    "collapsed": false
   },
   "outputs": [
    {
     "data": {
      "text/plain": [
       "1.0"
      ]
     },
     "execution_count": 22,
     "metadata": {},
     "output_type": "execute_result"
    }
   ],
   "source": [
    "clf.score(X, y)"
   ]
  },
  {
   "cell_type": "markdown",
   "metadata": {},
   "source": [
    "Score is 1.0 because DecisionTreeClassifiers have really high accuracies with the training data. <br />\n",
    "We must use CrossValidation to get the correct score"
   ]
  },
  {
   "cell_type": "code",
   "execution_count": 23,
   "metadata": {
    "collapsed": true
   },
   "outputs": [],
   "source": [
    "from sklearn.cross_validation import KFold"
   ]
  },
  {
   "cell_type": "code",
   "execution_count": 24,
   "metadata": {
    "collapsed": false
   },
   "outputs": [
    {
     "name": "stdout",
     "output_type": "stream",
     "text": [
      "[0.19090909090909092, 0.23636363636363636, 0.24770642201834864, 0.21100917431192662, 0.19266055045871561]\n",
      "0.215729774812\n"
     ]
    }
   ],
   "source": [
    "kfold = KFold(len(X), n_folds=5)\n",
    "scores = []\n",
    "\n",
    "for train, test in kfold:\n",
    "    clf = DecisionTreeClassifier()\n",
    "    clf.fit(X[train], y[train])\n",
    "    \n",
    "    scores.append(clf.score(X[test], y[test]))\n",
    "    \n",
    "print(scores)\n",
    "print(sum(scores) / len(scores))"
   ]
  },
  {
   "cell_type": "markdown",
   "metadata": {},
   "source": [
    "The accuracy is really low. We must fine-tune the data in order to improve the model"
   ]
  },
  {
   "cell_type": "markdown",
   "metadata": {},
   "source": [
    "For example, the target values are very diversified adding no meaning whatsoever"
   ]
  },
  {
   "cell_type": "code",
   "execution_count": 25,
   "metadata": {
    "collapsed": false
   },
   "outputs": [
    {
     "data": {
      "text/plain": [
       "['pos_AM(LR)',\n",
       " 'pos_AM(L)',\n",
       " 'pos_M(LR)',\n",
       " 'pos_Midfielder',\n",
       " 'pos_D(CL)',\n",
       " 'pos_AM(CR)',\n",
       " 'pos_M(R)',\n",
       " 'pos_FW',\n",
       " 'pos_Forward',\n",
       " 'pos_D(CR)',\n",
       " 'pos_Goalkeeper',\n",
       " 'pos_AM(CLR)',\n",
       " 'pos_Defender',\n",
       " 'pos_M(L)',\n",
       " 'pos_M(C)',\n",
       " 'pos_M(CLR)',\n",
       " 'pos_M(CR)',\n",
       " 'pos_D(L)',\n",
       " 'pos_D(LR)',\n",
       " 'pos_GK',\n",
       " 'pos_AM(C)',\n",
       " 'pos_D(C)',\n",
       " 'pos_AM(R)',\n",
       " 'pos_DMC',\n",
       " 'pos_D(R)',\n",
       " 'pos_AM(CL)',\n",
       " 'pos_D(CLR)',\n",
       " 'pos_M(CL)']"
      ]
     },
     "execution_count": 25,
     "metadata": {},
     "output_type": "execute_result"
    }
   ],
   "source": [
    "output_cols"
   ]
  },
  {
   "cell_type": "markdown",
   "metadata": {},
   "source": [
    "By ommitting the parenthesis part we get less values"
   ]
  },
  {
   "cell_type": "code",
   "execution_count": 26,
   "metadata": {
    "collapsed": false
   },
   "outputs": [
    {
     "data": {
      "text/plain": [
       "['pos_AM',\n",
       " 'pos_D',\n",
       " 'pos_DMC',\n",
       " 'pos_Defender',\n",
       " 'pos_FW',\n",
       " 'pos_Forward',\n",
       " 'pos_GK',\n",
       " 'pos_Goalkeeper',\n",
       " 'pos_M',\n",
       " 'pos_Midfielder']"
      ]
     },
     "execution_count": 26,
     "metadata": {},
     "output_type": "execute_result"
    }
   ],
   "source": [
    "sorted(\n",
    "    {\n",
    "        col[:col.index('(')] if '(' in col else col\n",
    "        for col in output_cols\n",
    "    }\n",
    ")"
   ]
  },
  {
   "cell_type": "markdown",
   "metadata": {},
   "source": [
    "Some of those are repeated. Just retrieving the first letter of the position should be enough"
   ]
  },
  {
   "cell_type": "code",
   "execution_count": 27,
   "metadata": {
    "collapsed": false
   },
   "outputs": [
    {
     "data": {
      "text/plain": [
       "{'pos_A': ['pos_AM(LR)',\n",
       "  'pos_AM(L)',\n",
       "  'pos_AM(CR)',\n",
       "  'pos_AM(CLR)',\n",
       "  'pos_AM(C)',\n",
       "  'pos_AM(R)',\n",
       "  'pos_AM(CL)'],\n",
       " 'pos_D': ['pos_D(CL)',\n",
       "  'pos_D(CR)',\n",
       "  'pos_Defender',\n",
       "  'pos_D(L)',\n",
       "  'pos_D(LR)',\n",
       "  'pos_D(C)',\n",
       "  'pos_DMC',\n",
       "  'pos_D(R)',\n",
       "  'pos_D(CLR)'],\n",
       " 'pos_F': ['pos_FW', 'pos_Forward'],\n",
       " 'pos_G': ['pos_Goalkeeper', 'pos_GK'],\n",
       " 'pos_M': ['pos_M(LR)',\n",
       "  'pos_Midfielder',\n",
       "  'pos_M(R)',\n",
       "  'pos_M(L)',\n",
       "  'pos_M(C)',\n",
       "  'pos_M(CLR)',\n",
       "  'pos_M(CR)',\n",
       "  'pos_M(CL)']}"
      ]
     },
     "execution_count": 27,
     "metadata": {},
     "output_type": "execute_result"
    }
   ],
   "source": [
    "from collections import defaultdict\n",
    "\n",
    "output_cols_translate = defaultdict(list)\n",
    "for col in output_cols:\n",
    "    output_cols_translate[col[:5]].append(col)\n",
    "    \n",
    "output_cols_translate = dict(output_cols_translate)\n",
    "output_cols_translate"
   ]
  },
  {
   "cell_type": "code",
   "execution_count": 28,
   "metadata": {
    "collapsed": false
   },
   "outputs": [],
   "source": [
    "# Check if a player fulfills any of the columns associated with a position\n",
    "for col, original_cols in output_cols_translate.items():\n",
    "    df[col] = df[original_cols].any(axis=1)\n",
    "    df = df.drop(original_cols, axis=1) # drop the old columns"
   ]
  },
  {
   "cell_type": "code",
   "execution_count": 29,
   "metadata": {
    "collapsed": false
   },
   "outputs": [
    {
     "data": {
      "text/plain": [
       "['pos_M', 'pos_D', 'pos_G', 'pos_F', 'pos_A']"
      ]
     },
     "execution_count": 29,
     "metadata": {},
     "output_type": "execute_result"
    }
   ],
   "source": [
    "# Get the new list of output columns\n",
    "output_cols = list(output_cols_translate.keys())\n",
    "\n",
    "output_cols"
   ]
  },
  {
   "cell_type": "code",
   "execution_count": 30,
   "metadata": {
    "collapsed": false
   },
   "outputs": [
    {
     "data": {
      "text/plain": [
       "array([[False, False, False,  True,  True],\n",
       "       [False, False, False,  True,  True],\n",
       "       [ True, False, False,  True, False],\n",
       "       ..., \n",
       "       [False,  True, False, False, False],\n",
       "       [False, False,  True, False, False],\n",
       "       [False,  True, False, False, False]], dtype=bool)"
      ]
     },
     "execution_count": 30,
     "metadata": {},
     "output_type": "execute_result"
    }
   ],
   "source": [
    "# Thus, redefine y, since its values have changed\n",
    "y = df[output_cols].as_matrix()\n",
    "\n",
    "y"
   ]
  },
  {
   "cell_type": "code",
   "execution_count": 31,
   "metadata": {
    "collapsed": false
   },
   "outputs": [
    {
     "name": "stdout",
     "output_type": "stream",
     "text": [
      "[0.47272727272727272, 0.40909090909090912, 0.49541284403669728, 0.33027522935779818, 0.33027522935779818]\n",
      "0.407556296914\n"
     ]
    }
   ],
   "source": [
    "# Cross-validate to get the new scores\n",
    "kfold = KFold(len(X), n_folds=5)\n",
    "scores = []\n",
    "\n",
    "for train, test in kfold:\n",
    "    clf = DecisionTreeClassifier()\n",
    "    clf.fit(X[train], y[train])\n",
    "    \n",
    "    scores.append(clf.score(X[test], y[test]))\n",
    "    \n",
    "print(scores)\n",
    "print(sum(scores) / len(scores))"
   ]
  },
  {
   "cell_type": "markdown",
   "metadata": {},
   "source": [
    "The score has doubled its value, but it's not enough. Why?\n",
    "\n",
    "Because we're classifying multiple labels at the same time. <br />\n",
    "But what if we only wanted to know when a given player plays in a certain position?"
   ]
  },
  {
   "cell_type": "code",
   "execution_count": 32,
   "metadata": {
    "collapsed": false
   },
   "outputs": [
    {
     "name": "stdout",
     "output_type": "stream",
     "text": [
      "pos_M\n",
      "----------\n",
      "[0.63636363636363635, 0.62727272727272732, 0.61467889908256879, 0.54128440366972475, 0.39449541284403672]\n",
      "0.562819015847\n",
      "----------\n",
      "\n",
      "pos_D\n",
      "----------\n",
      "[0.54545454545454541, 0.74545454545454548, 0.72477064220183485, 0.77981651376146788, 0.74311926605504586]\n",
      "0.707723102585\n",
      "----------\n",
      "\n",
      "pos_G\n",
      "----------\n",
      "[0.97272727272727277, 0.99090909090909096, 0.97247706422018354, 0.99082568807339455, 0.80733944954128445]\n",
      "0.946855713094\n",
      "----------\n",
      "\n",
      "pos_F\n",
      "----------\n",
      "[0.86363636363636365, 0.91818181818181821, 0.90825688073394495, 0.77981651376146788, 0.77064220183486243]\n",
      "0.84810675563\n",
      "----------\n",
      "\n",
      "pos_A\n",
      "----------\n",
      "[0.84545454545454546, 0.81818181818181823, 0.83486238532110091, 0.74311926605504586, 0.47706422018348627]\n",
      "0.743736447039\n",
      "----------\n",
      "\n"
     ]
    }
   ],
   "source": [
    "for output_col in output_cols:\n",
    "    print(output_col)\n",
    "    print('-' * 10)\n",
    "    \n",
    "    kfold = KFold(len(X), n_folds=5)\n",
    "    scores = []\n",
    "    \n",
    "    y_tmp = df[output_col].as_matrix()\n",
    "\n",
    "    for train, test in kfold:\n",
    "        clf = DecisionTreeClassifier()\n",
    "        clf.fit(X[train], y_tmp[train])\n",
    "\n",
    "        scores.append(clf.score(X[test], y_tmp[test]))\n",
    "\n",
    "    print(scores)\n",
    "    print(sum(scores) / len(scores))\n",
    "    print('-' * 10)\n",
    "    print()"
   ]
  },
  {
   "cell_type": "markdown",
   "metadata": {},
   "source": [
    "Scores increase dramatically. \n",
    "\n",
    "Some positions are better defined by the performance of the player than others, however."
   ]
  },
  {
   "cell_type": "markdown",
   "metadata": {},
   "source": [
    "# Clustering"
   ]
  },
  {
   "cell_type": "code",
   "execution_count": 33,
   "metadata": {
    "collapsed": false
   },
   "outputs": [],
   "source": [
    "from sklearn.decomposition import PCA\n",
    "from sklearn.cluster import KMeans\n",
    "\n",
    "pca = PCA(2)\n",
    "X_transformed = pca.fit_transform(X)\n",
    "\n",
    "cls = KMeans()\n",
    "clusters = cls.fit_predict(X_transformed)"
   ]
  },
  {
   "cell_type": "code",
   "execution_count": 34,
   "metadata": {
    "collapsed": false
   },
   "outputs": [
    {
     "data": {
      "image/png": "[encoded data removed]",
      "text/plain": [
       "<matplotlib.figure.Figure at 0x119433f60>"
      ]
     },
     "metadata": {},
     "output_type": "display_data"
    }
   ],
   "source": [
    "palette = sns.color_palette(n_colors=max(clusters) + 1) # create a color palette with N colors\n",
    "\n",
    "sns.palplot(palette)"
   ]
  },
  {
   "cell_type": "code",
   "execution_count": 35,
   "metadata": {
    "collapsed": true
   },
   "outputs": [],
   "source": [
    "from matplotlib.colors import rgb2hex\n",
    "palette = [\n",
    "    rgb2hex(color) # convert color 3-tuples to hex values (ex. #00ff00)\n",
    "    for color in palette\n",
    "]"
   ]
  },
  {
   "cell_type": "code",
   "execution_count": 36,
   "metadata": {
    "collapsed": false
   },
   "outputs": [
    {
     "data": {
      "text/plain": [
       "<matplotlib.axes._subplots.AxesSubplot at 0x119977be0>"
      ]
     },
     "execution_count": 36,
     "metadata": {},
     "output_type": "execute_result"
    },
    {
     "data": {
      "image/png": "[encoded data removed]",
      "text/plain": [
       "<matplotlib.figure.Figure at 0x1195ebf98>"
      ]
     },
     "metadata": {},
     "output_type": "display_data"
    }
   ],
   "source": [
    "pd.DataFrame(X_transformed).plot.scatter(\n",
    "    x=0, y=1, c=[palette[c] for c in clusters]\n",
    ")"
   ]
  },
  {
   "cell_type": "markdown",
   "metadata": {},
   "source": [
    "Let's analyize those clusters"
   ]
  },
  {
   "cell_type": "code",
   "execution_count": 37,
   "metadata": {
    "collapsed": false
   },
   "outputs": [],
   "source": [
    "group = df[input_cols].groupby(clusters)\n",
    "\n",
    "clusters_data = group.apply(lambda subdf: subdf.describe().loc[['mean', 'std']])\n",
    "clusters_stds = group.apply(lambda subdf: subdf.std() / df[input_cols].std())"
   ]
  },
  {
   "cell_type": "code",
   "execution_count": 38,
   "metadata": {
    "collapsed": false
   },
   "outputs": [
    {
     "name": "stdout",
     "output_type": "stream",
     "text": [
      "----------------------------------------\n",
      "Cluster 0:\n",
      "----------------------------------------\n",
      "                     0           1\n",
      "minsPlayed  250.320078  672.651350\n",
      "ap            2.039748    7.674538\n",
      "goal         -1.020703    1.849275\n",
      "\n",
      "----------------------------------------\n",
      "Cluster 1:\n",
      "----------------------------------------\n",
      "                       0            1\n",
      "minsPlayed   1919.714155  2389.642988\n",
      "ap             21.097811    27.866475\n",
      "passSuccess    63.662807    91.555050\n",
      "\n",
      "----------------------------------------\n",
      "Cluster 2:\n",
      "----------------------------------------\n",
      "                      0            1\n",
      "ap            30.631443    37.708179\n",
      "minsPlayed  2698.147309  3357.701747\n",
      "age           19.963704    34.753277\n",
      "\n",
      "----------------------------------------\n",
      "Cluster 3:\n",
      "----------------------------------------\n",
      "                         0            1\n",
      "minsPlayed     1038.344185  1494.139686\n",
      "ap               10.892754    17.236278\n",
      "manOfTheMatch    -0.879519     1.589196\n",
      "\n",
      "----------------------------------------\n",
      "Cluster 4:\n",
      "----------------------------------------\n",
      "                       0           1\n",
      "manOfTheMatch   0.000000    0.000000\n",
      "goal           -0.387352    0.492615\n",
      "minsPlayed    -48.775996  263.533891\n",
      "\n",
      "----------------------------------------\n",
      "Cluster 5:\n",
      "----------------------------------------\n",
      "                       0            1\n",
      "minsPlayed   2333.401364  2808.504886\n",
      "ap             25.378150    32.653100\n",
      "passSuccess    58.409124    93.522126\n",
      "\n",
      "----------------------------------------\n",
      "Cluster 6:\n",
      "----------------------------------------\n",
      "                       0            1\n",
      "minsPlayed   1461.810990  1960.643556\n",
      "ap             15.284785    23.260670\n",
      "passSuccess    62.754565    89.618163\n",
      "\n",
      "----------------------------------------\n",
      "Cluster 7:\n",
      "----------------------------------------\n",
      "                        0            1\n",
      "minsPlayed     638.395167  1105.629525\n",
      "ap               5.751613    12.791597\n",
      "manOfTheMatch   -0.581854     0.804076\n",
      "\n"
     ]
    }
   ],
   "source": [
    "for cluster in clusters_stds.index:\n",
    "    most_relevant_cols = np.array(input_cols)[\n",
    "        clusters_stds.loc[cluster].as_matrix().argsort()\n",
    "    ][:3]\n",
    "    \n",
    "    subdf = clusters_data.loc[cluster, most_relevant_cols]\n",
    "    \n",
    "    print('-' * 40)\n",
    "    print('Cluster %d:' % cluster)\n",
    "    print('-' * 40)\n",
    "    \n",
    "    print(\n",
    "        pd.concat(\n",
    "            [\n",
    "                subdf.loc['mean'] - 1.96 * subdf.loc['std'], \n",
    "                subdf.loc['mean'] + 1.96 * subdf.loc['std']\n",
    "            ],\n",
    "            axis=1\n",
    "        )\n",
    "    )\n",
    "    \n",
    "    print()"
   ]
  }
 ],
 "metadata": {
  "kernelspec": {
   "display_name": "Python 3",
   "language": "python",
   "name": "python3"
  },
  "language_info": {
   "codemirror_mode": {
    "name": "ipython",
    "version": 3
   },
   "file_extension": ".py",
   "mimetype": "text/x-python",
   "name": "python",
   "nbconvert_exporter": "python",
   "pygments_lexer": "ipython3",
   "version": "3.5.1"
  }
 },
 "nbformat": 4,
 "nbformat_minor": 0
}
